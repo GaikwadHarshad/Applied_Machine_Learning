{
  "cells": [
    {
      "cell_type": "markdown",
      "metadata": {
        "id": "l0ZzOlyxB-kf"
      },
      "source": [
        "<h1>Python: without numpy or sklearn </h1>"
      ]
    },
    {
      "cell_type": "markdown",
      "metadata": {
        "id": "C0xO8JV9B-ki"
      },
      "source": [
        "<h3> Q1: Given two matrices please print the product of those two matrices </h3>\n",
        "<pre>\n",
        "\n",
        "Ex 1: A   = [[1 3 4]\n",
        "             [2 5 7]\n",
        "             [5 9 6]]\n",
        "      B   = [[1 0 0]\n",
        "             [0 1 0]\n",
        "             [0 0 1]]\n",
        "      A*B = [[1 3 4]\n",
        "             [2 5 7]\n",
        "             [5 9 6]]\n",
        "\n",
        "     \n",
        "Ex 2: A   = [[1 2]\n",
        "             [3 4]]\n",
        "      B   = [[1 2 3 4 5]\n",
        "             [5 6 7 8 9]]\n",
        "      A*B = [[11 14 17 20 23]\n",
        "             [23 30 37 44 51]]\n",
        "             \n",
        "Ex 3: A   = [[1 2]\n",
        "             [3 4]]\n",
        "      B   = [[1 4]\n",
        "             [5 6]\n",
        "             [7 8]\n",
        "             [9 6]]\n",
        "      A*B =Not possible\n",
        "</pre>"
      ]
    },
    {
      "cell_type": "code",
      "execution_count": 136,
      "metadata": {
        "colab": {
          "base_uri": "https://localhost:8080/",
          "height": 0
        },
        "id": "rnssAfpgB-kj",
        "outputId": "6c0f928e-2620-4039-8ba8-d4e9c9ddca7a"
      },
      "outputs": [
        {
          "output_type": "stream",
          "name": "stdout",
          "text": [
            "[11, 14, 17, 20, 23]\n",
            "[23, 30, 37, 44, 51]\n"
          ]
        }
      ],
      "source": [
        "def matrix_mul(A, B):\n",
        "  number_col_A = len(A[0])\n",
        "  number_row_B = len(B)\n",
        "\n",
        "  # Creating empty list for result of size N initialized with 0's\n",
        "  product = [[0 for _ in range(len(B[0]))] for _ in range(len(A))]\n",
        "\n",
        "  if number_col_A == number_row_B:\n",
        "\n",
        "    # Iterating over the rows of list A\n",
        "    for i in range(len(A)):\n",
        "\n",
        "      # Iterating over the columns of list B\n",
        "      for j in range(len(B[0])):\n",
        "\n",
        "        # Iterating over the rows of B\n",
        "        for k in range(len(B)):\n",
        "          product[i][j] += (A[i][k] * B[k][j])\n",
        "  else:\n",
        "    print('A*B = Not Possible')\n",
        "  return product\n",
        "    \n",
        "    \n",
        "# A = [[1,2],\n",
        "#      [3,4]]\n",
        "# B = [[1,4],\n",
        "#      [5,6],\n",
        "#      [7,8],\n",
        "#      [9,6]]\n",
        "\n",
        "A = [[1,2],\n",
        "     [3,4]]\n",
        "B = [[1,2,3,4,5],\n",
        "     [5,6,7,8,9]]\n",
        "\n",
        "# A = [[1,3,4],\n",
        "#      [2,5,7],\n",
        "#      [5,9,6]]\n",
        "# B = [[1,0,0],\n",
        "#      [0,1,0],\n",
        "#      [0,0,1]]\n",
        "\n",
        "result = matrix_mul(A, B)\n",
        "\n",
        "# display result of two matrices A & B\n",
        "for r in result:\n",
        "  print(r)"
      ]
    },
    {
      "cell_type": "markdown",
      "metadata": {
        "id": "at4VwLggB-kn"
      },
      "source": [
        "<h3> Q2: Proportional Sampling - Select a number randomly with probability proportional to its magnitude from the given array of n elements</h3>\n",
        "\n",
        "Consider an experiment, selecting an element from the list A randomly with probability proportional to its magnitude.\n",
        "assume we are doing the same experiment for 100 times with replacement, in each experiment you will print a number that is selected randomly from A.\n",
        "\n",
        "<pre>\n",
        "Ex 1: A = [0 5 27 6 13 28 100 45 10 79]\n",
        "let f(x) denote the number of times x getting selected in 100 experiments.\n",
        "f(100) > f(79) > f(45) > f(28) > f(27) > f(13) > f(10) > f(6) > f(5) > f(0)\n",
        "</pre>"
      ]
    },
    {
      "cell_type": "code",
      "execution_count": 137,
      "metadata": {
        "id": "B6S2dpBhB-kn",
        "colab": {
          "base_uri": "https://localhost:8080/",
          "height": 0
        },
        "outputId": "836647bd-0494-41d8-fd4c-8a2d2e98f101"
      },
      "outputs": [
        {
          "output_type": "stream",
          "name": "stdout",
          "text": [
            "[45]\n",
            "[6]\n",
            "[100]\n",
            "[28]\n",
            "[79]\n",
            "[100]\n",
            "[28]\n",
            "[6]\n",
            "[28]\n",
            "[100]\n",
            "[79]\n",
            "[100]\n",
            "[45]\n",
            "[79]\n",
            "[45]\n",
            "[100]\n",
            "[27]\n",
            "[79]\n",
            "[45]\n",
            "[79]\n",
            "[79]\n",
            "[100]\n",
            "[45]\n",
            "[100]\n",
            "[100]\n",
            "[100]\n",
            "[100]\n",
            "[79]\n",
            "[79]\n",
            "[100]\n",
            "[100]\n",
            "[27]\n",
            "[100]\n",
            "[100]\n",
            "[79]\n",
            "[100]\n",
            "[79]\n",
            "[10]\n",
            "[79]\n",
            "[45]\n",
            "[100]\n",
            "[79]\n",
            "[27]\n",
            "[100]\n",
            "[79]\n",
            "[100]\n",
            "[79]\n",
            "[45]\n",
            "[100]\n",
            "[28]\n",
            "[28]\n",
            "[27]\n",
            "[27]\n",
            "[100]\n",
            "[28]\n",
            "[79]\n",
            "[45]\n",
            "[28]\n",
            "[100]\n",
            "[100]\n",
            "[79]\n",
            "[79]\n",
            "[100]\n",
            "[13]\n",
            "[79]\n",
            "[79]\n",
            "[79]\n",
            "[79]\n",
            "[100]\n",
            "[100]\n",
            "[28]\n",
            "[45]\n",
            "[28]\n",
            "[79]\n",
            "[45]\n",
            "[100]\n",
            "[45]\n",
            "[79]\n",
            "[100]\n",
            "[79]\n",
            "[100]\n",
            "[45]\n",
            "[28]\n",
            "[45]\n",
            "[5]\n",
            "[28]\n",
            "[79]\n",
            "[6]\n",
            "[79]\n",
            "[28]\n",
            "[10]\n",
            "[13]\n",
            "[45]\n",
            "[45]\n",
            "[79]\n",
            "[100]\n",
            "[45]\n",
            "[100]\n",
            "[79]\n"
          ]
        }
      ],
      "source": [
        "import random\n",
        "from random import uniform\n",
        "\n",
        "# Function to pick random number from list\n",
        "def pick_a_number_from_list(A):\n",
        "    cum_sum = []\n",
        "    for i in A:\n",
        "      # getting cummulative sum of each number to help proportionate probability\n",
        "      cum_sum.append(i/sum(A))\n",
        "    # Selecting random element with probability proportional to its magnitude\n",
        "    selected_random_number = random.choices(A,weights=cum_sum,k=1)  # here K=1 will only select 1 number at a time\n",
        "    return selected_random_number\n",
        "\n",
        "\n",
        "def sampling_based_on_magnitued():\n",
        "    A = [0, 5, 27, 6, 13, 28, 100, 45, 10, 79]\n",
        "    # we are doing same experience 100 times with replacement\n",
        "    for i in range(1,100):\n",
        "        number = pick_a_number_from_list(A)\n",
        "        print(number)\n",
        "\n",
        "sampling_based_on_magnitued()"
      ]
    },
    {
      "cell_type": "markdown",
      "metadata": {
        "id": "D1xQy2WWB-kq"
      },
      "source": [
        "<h3> Q3: Replace the digits in the string with #</h3>\n",
        "\n",
        "consider a string that will have digits in that, we need to remove all the not digits and replace the digits with #\n",
        "<pre>\n",
        "Ex 1: A = 234                Output: ###\n",
        "Ex 2: A = a2b3c4             Output: ###\n",
        "Ex 3: A = abc                Output:   (empty string)\n",
        "Ex 5: A = #2a$#b%c%561#      Output: ####\n",
        "</pre>"
      ]
    },
    {
      "cell_type": "code",
      "execution_count": 145,
      "metadata": {
        "id": "fxczi2jzB-kr",
        "colab": {
          "base_uri": "https://localhost:8080/",
          "height": 0
        },
        "outputId": "28442dd5-bcc2-4a57-a3ca-49f29bb23ecd"
      },
      "outputs": [
        {
          "output_type": "stream",
          "name": "stdout",
          "text": [
            "1. 234\n",
            "2. a2b3c4\n",
            "3. abc\n",
            "4. #2a$#b%c%561#\n",
            "5. Enter new string\n",
            "6. Exit\n",
            "\n",
            "\n",
            "Enter your choice:6\n",
            "----------------------------------\n"
          ]
        }
      ],
      "source": [
        "import re\n",
        "def replace_digits(String):\n",
        "    replace_with = '#'\n",
        "    print('The original string is :', String)\n",
        "    # removing all special char and a-zA-Z char\n",
        "    replaced_string = re.sub(r'[?|$|.|#|!|%|a-z|A-Z]',r'',String)\n",
        "    # replaced digit with '#'\n",
        "    return re.sub(r'\\d',replace_with,replaced_string)\n",
        "\n",
        "\n",
        "print(\"1. 234\"\"\\n\"\"2. a2b3c4\"\"\\n\"\"3. abc\"\"\\n\"\"4. #2a$#b%c%561#\"\"\\n\"\"5. Enter new string\"\"\\n\"\"6. Exit\")\n",
        "print(\"\\n\")\n",
        "choice = int(input('Enter your choice:'))\n",
        "print(\"----------------------------------\")\n",
        "if(choice==1):\n",
        "  print('The output string is: ',replace_digits('234'))\n",
        "elif(choice==2):\n",
        "  print('The output string is: ',replace_digits('a2b3c4'))\n",
        "elif(choice==3):\n",
        "  print('The output string is: ',replace_digits('abc'))\n",
        "elif(choice==4):\n",
        "  print('The output string is: ',replace_digits('#2a$#b%c%561#'))\n",
        "elif(choice==5):\n",
        "  custom = input()\n",
        "  print('The output string is: ',replace_digits(custom))\n",
        "elif(choice==6):\n",
        "  exit()\n",
        "else:\n",
        "  print('Invalid choice. Enter between 1-6')"
      ]
    },
    {
      "cell_type": "markdown",
      "metadata": {
        "id": "j7h0Ywg7B-kw"
      },
      "source": [
        "<h3> Q4: Students marks dashboard</h3>\n",
        "\n",
        "consider the marks list of class students given two lists <br>\n",
        "Students = ['student1','student2','student3','student4','student5','student6','student7','student8','student9','student10'] <br>\n",
        "Marks = [45, 78, 12, 14, 48, 43, 45, 98, 22, 80] <br>\n",
        "from the above two lists the Student[0] got Marks[0],  Student[1] got Marks[1] and so on <br><br>\n",
        "your task is to print the name of students\n",
        "<strong>a. Who got top 5 ranks, in the descending order of marks</strong> <br>\n",
        "<strong>b. Who got least 5 ranks, in the increasing order of marks</strong><br>\n",
        "<strong>d. Who got marks between  &gt;25th percentile &lt;75th percentile, in the increasing order of marks</strong>\n",
        "\n",
        "<pre>\n",
        "Ex 1: \n",
        "Students=['student1','student2','student3','student4','student5','student6','student7','student8','student9','student10'] \n",
        "Marks = [45, 78, 12, 14, 48, 43, 47, 98, 22, 80]\n",
        "a. \n",
        "student8  98\n",
        "student10 80\n",
        "student2  78\n",
        "student5  48\n",
        "student7  47\n",
        "b.\n",
        "student3 12\n",
        "student4 14\n",
        "student9 22\n",
        "student6 43\n",
        "student1 45\n",
        "c.\n",
        "student9 22\n",
        "student6 43\n",
        "student1 45\n",
        "student7 47\n",
        "student5 48\n",
        "</pre>"
      ]
    },
    {
      "cell_type": "code",
      "execution_count": 1,
      "metadata": {
        "id": "cxPJgItsB-kx",
        "colab": {
          "base_uri": "https://localhost:8080/",
          "height": 0
        },
        "outputId": "69550431-7c88-4e6f-fe40-7ba70894afd5"
      },
      "outputs": [
        {
          "output_type": "stream",
          "name": "stdout",
          "text": [
            "student8 98\n",
            "student10 80\n",
            "student2 78\n",
            "student5 48\n",
            "student7 47\n",
            "-----------------------\n",
            "student3 12\n",
            "student4 14\n",
            "student9 22\n",
            "student6 43\n",
            "student1 45\n",
            "-----------------------\n",
            "student9 22\n",
            "student6 43\n",
            "student1 45\n",
            "student7 47\n",
            "student5 48\n",
            "-----------------------\n"
          ]
        }
      ],
      "source": [
        "def get_top_or_least_marks(marks):\n",
        "  student_list = []\n",
        "  for i in range(len(marks)):\n",
        "    if i <= 4:\n",
        "      student_list.append(marks[i])\n",
        "  return student_list;\n",
        "\n",
        "# printing students and their marks\n",
        "def print_students_marks(students_marks_dict):\n",
        "  for k,v in students_marks_dict.items():\n",
        "    print(k,v)\n",
        "  print(\"-----------------------\")\n",
        "\n",
        "# code to display dash board\n",
        "def display_dash_board(students, marks):\n",
        "    top_5_students = []\n",
        "    # write code for computing top top 5 students\n",
        "    top_marks = sorted(zip(marks,students),reverse=True)\n",
        "    # getting top 5 students who got top marks\n",
        "    top_5_students = get_top_or_least_marks(top_marks)\n",
        "    # converting list to dict to get key value\n",
        "    top_5_students = dict(top_5_students)\n",
        "    # swap student and mark in dict \n",
        "    top_5_students = dict((v,k)for k,v in top_5_students.items())\n",
        "    \n",
        "    # write code for computing top least 5 students\n",
        "    least_marks = sorted(zip(marks,students),reverse=False)\n",
        "    least_5_students = get_top_or_least_marks(least_marks)\n",
        "    least_5_students = dict(least_5_students)\n",
        "    least_5_students = dict((v,k) for k,v in least_5_students.items())\n",
        "\n",
        "    #  code for computing students within 25 and 75 percentile\n",
        "    max_mark = max(marks)\n",
        "    min_mark = min(marks)\n",
        "    diff_mark = max_mark - min_mark\n",
        "    per_25 = diff_mark * 0.25\n",
        "    per_75 = diff_mark * 0.75\n",
        "    marks_in_ascending = dict(sorted(zip(marks,students),reverse=False))\n",
        "    # getting all the students within 25 and 75 percentile in dict\n",
        "    students_within_25_and_75 = {\n",
        "        students : marks \n",
        "        for(marks,students)\n",
        "        in marks_in_ascending.items()\n",
        "        if per_25 <= marks <= per_75\n",
        "    }\n",
        "    \n",
        "    return top_5_students, least_5_students, students_within_25_and_75\n",
        "\n",
        "students = ['student1','student2','student3','student4','student5','student6','student7','student8','student9','student10']\n",
        "marks = [45, 78, 12, 14, 48, 43, 47, 98, 22, 80]\n",
        "\n",
        "top_5_students, least_5_students, students_within_25_and_75 = display_dash_board(students, marks)\n",
        "\n",
        "# print top 5 students\n",
        "print_students_marks(top_5_students)\n",
        "# print top least 5 students\n",
        "print_students_marks(least_5_students)\n",
        "# print students_within_25_and_75 percentile\n",
        "print_students_marks(students_within_25_and_75)\n"
      ]
    },
    {
      "cell_type": "markdown",
      "metadata": {
        "id": "qha0OhQHB-k1"
      },
      "source": [
        "<h3> Q5: Find the closest points</h3>\n",
        "\n",
        "Consider you have given n data points in the form of list of tuples like S=[(x1,y1),(x2,y2),(x3,y3),(x4,y4),(x5,y5),..,(xn,yn)] and a point P=(p,q) <br> Your task is to find 5 closest points(based on cosine distance) in S from P\n",
        "<br>Cosine distance between two points (x,y) and (p,q) is defind as $cos^{-1}(\\frac{(x\\cdot p+y\\cdot q)}{\\sqrt(x^2+y^2)\\cdot\\sqrt(p^2+q^2)})$\n",
        "<pre>\n",
        "Ex:\n",
        "\n",
        "S= [(1,2),(3,4),(-1,1),(6,-7),(0, 6),(-5,-8),(-1,-1),(6,0),(1,-1)]\n",
        "P= (3,-4)\n",
        "\n",
        "<img src='https://i.imgur.com/vyZZQGu.png' width=400>\n",
        "\n",
        "Output:\n",
        "(6,-7)\n",
        "(1,-1)\n",
        "(6,0)\n",
        "(-5,-8)\n",
        "(-1,-1)\n",
        "</pre>\n",
        " Hint - If you write the formula correctly you'll get the distance between points (6,-7) and (3,-4) = 0.065"
      ]
    },
    {
      "cell_type": "code",
      "execution_count": 2,
      "metadata": {
        "id": "wA5I1g-2B-k2",
        "colab": {
          "base_uri": "https://localhost:8080/",
          "height": 0
        },
        "outputId": "28bb1f1c-9702-4ae7-8618-98ac10df86e0"
      },
      "outputs": [
        {
          "output_type": "stream",
          "name": "stdout",
          "text": [
            "(6, -7)\n",
            "(1, -1)\n",
            "(6, 0)\n",
            "(-5, -8)\n",
            "(-1, -1)\n"
          ]
        }
      ],
      "source": [
        "import math\n",
        "\n",
        "def closest_points_to_p(S, P):\n",
        "  # setting value for p and q points\n",
        "  p,q = P[0],P[1]\n",
        "  result = []\n",
        "  # code to compute the cosine distance between two points (x,y) and (p,q)\n",
        "  for x,y in S:\n",
        "    # calculating numerator values\n",
        "    numerator = x*p + y*q\n",
        "    # calculating denominator values\n",
        "    denominator = math.sqrt(x*x + y*y) * math.sqrt(p*p + q*q)\n",
        "    # divding num/den to get cosine distance\n",
        "    result.append(math.acos(numerator/denominator))\n",
        "  return result\n",
        "\n",
        "S= [(1,2),(3,4),(-1,1),(6,-7),(0, 6),(-5,-8),(-1,-1),(6,0),(1,-1)]\n",
        "P= (3,-4)\n",
        "# getting all the data points distance from p,q points\n",
        "data_points = closest_points_to_p(S,P)\n",
        "# getting closest data points\n",
        "closest_points_to_p = sorted(zip(S,data_points), key=lambda i:i[1])\n",
        "for points,distance in closest_points_to_p[:5]:\n",
        "  print(points)"
      ]
    },
    {
      "cell_type": "markdown",
      "metadata": {
        "id": "-g11jeAiB-k5"
      },
      "source": [
        "<h3> Q6: Find Which line separates oranges and apples</h3>\n",
        "consider you have given two set of data points in the form of list of tuples like \n",
        "<pre>\n",
        "Red =[(R11,R12),(R21,R22),(R31,R32),(R41,R42),(R51,R52),..,(Rn1,Rn2)]\n",
        "Blue=[(B11,B12),(B21,B22),(B31,B32),(B41,B42),(B51,B52),..,(Bm1,Bm2)]\n",
        "</pre>\n",
        "and set of line equations(in the string formate, i.e list of strings)\n",
        "<pre>\n",
        "Lines = [a1x+b1y+c1,a2x+b2y+c2,a3x+b3y+c3,a4x+b4y+c4,..,K lines]\n",
        "Note: you need to string parsing here and get the coefficients of x,y and intercept\n",
        "</pre>\n",
        "your task is to for each line that is given print \"YES\"/\"NO\", you will print yes, if all the red points are one side of the line and blue points are other side of the line, otherwise no\n",
        "<pre>\n",
        "Ex:\n",
        "Red= [(1,1),(2,1),(4,2),(2,4), (-1,4)]\n",
        "Blue= [(-2,-1),(-1,-2),(-3,-2),(-3,-1),(1,-3)]\n",
        "Lines=[\"1x+1y+0\",\"1x-1y+0\",\"1x+0y-3\",\"0x+1y-0.5\"]\n",
        "<img src='https://i.imgur.com/mSnQW5K.png' width=400>\n",
        "\n",
        "Output:\n",
        "YES\n",
        "NO\n",
        "NO\n",
        "YES\n",
        "</pre>"
      ]
    },
    {
      "cell_type": "code",
      "execution_count": 5,
      "metadata": {
        "id": "eRxExaTRB-k6",
        "colab": {
          "base_uri": "https://localhost:8080/",
          "height": 0
        },
        "outputId": "373a4ecc-eea9-4153-92bd-53ea81143bf3"
      },
      "outputs": [
        {
          "output_type": "stream",
          "name": "stdout",
          "text": [
            "YES\n",
            "NO\n",
            "NO\n",
            "YES\n"
          ]
        }
      ],
      "source": [
        "import math\n",
        "import matplotlib.pyplot as plt\n",
        "import re\n",
        "def get_side_of_line(a,b,c,p):\n",
        "  # Equation to calculate intercept using ax+by+c\n",
        "  calculate_itercept = (a*p[0]) + (b*p[1]) + c\n",
        "  if calculate_itercept > 0:\n",
        "    return 0\n",
        "  elif calculate_itercept < 0:\n",
        "    return -1\n",
        "  elif calculate_itercept == 0:\n",
        "    return 0\n",
        "  else:\n",
        "    return -2\n",
        "\n",
        "# you can free to change all these codes/struct\n",
        "def i_am_the_one(red,blue,a,b,c):\n",
        "  # check for which side our 1st data point is on\n",
        "  red_sign = get_side_of_line(a,b,c,red[0])\n",
        "  blue_sign = get_side_of_line(a,b,c,blue[0])\n",
        "  \n",
        "  # checking the sides of all red data points\n",
        "  for i in range(len(red)):\n",
        "    if red_sign != get_side_of_line(a,b,c,red[i]):\n",
        "      return 'NO'\n",
        "\n",
        "  # checking the sides of all blue data points\n",
        "  for j in range(len(blue)):\n",
        "    if blue_sign != get_side_of_line(a,b,c,blue[j]):\n",
        "      return 'NO'\n",
        "  return 'YES'\n",
        "\n",
        "Red= [(1,1),(2,1),(4,2),(2,4), (-1,4)]\n",
        "Blue= [(-2,-1),(-1,-2),(-3,-2),(-3,-1),(1,-3)]\n",
        "Lines=[\"1x+1y+0\",\"1x-1y+0\",\"1x+0y-3\",\"0x+1y-0.5\"]\n",
        "\n",
        "for i in Lines:\n",
        "  # extracting the coefficient from the lines of string\n",
        "    a, b, c = [float(coef.strip()) for coef in re.split('x|y', i)]\n",
        "    # getting the result whether all points belong to either side\n",
        "    result = i_am_the_one(Red, Blue, a,b,c)\n",
        "    print(result)\n",
        "    "
      ]
    },
    {
      "cell_type": "markdown",
      "metadata": {
        "id": "9OBpURbNB-k9"
      },
      "source": [
        "<h3> Q7: Filling the missing values in the specified formate</h3>\n",
        "You will be given a string with digits and '\\_'(missing value) symbols you have to replace the '\\_' symbols as explained \n",
        "<pre>\n",
        "Ex 1: _, _, _, 24 ==> 24/4, 24/4, 24/4, 24/4 i.e we. have distributed the 24 equally to all 4 places <br>\n",
        "Ex 2: 40, _, _, _, 60 ==> (60+40)/5,(60+40)/5,(60+40)/5,(60+40)/5,(60+40)/5 ==> 20, 20, 20, 20, 20 i.e. the sum of (60+40) is distributed qually to all 5 places<br>\n",
        "Ex 3: 80, _, _, _, _  ==> 80/5,80/5,80/5,80/5,80/5 ==> 16, 16, 16, 16, 16 i.e. the 80 is distributed qually to all 5 missing values that are right to it<br>\n",
        "Ex 4: _, _, 30, _, _, _, 50, _, _  \n",
        "==> we will fill the missing values from left to right \n",
        "    a. first we will distribute the 30 to left two missing values (10, 10, 10, _, _, _, 50, _, _)\n",
        "    b. now distribute the sum (10+50) missing values in between (10, 10, 12, 12, 12, 12, 12, _, _) \n",
        "    c. now we will distribute 12 to right side missing values (10, 10, 12, 12, 12, 12, 4, 4, 4)\n",
        "</pre>\n",
        "for a given string with comma seprate values, which will have both missing values numbers like ex: \"_, _, x, _, _, _\"\n",
        "you need fill the missing values\n",
        "\n",
        "Q: your program reads a string like ex: \"_, _, x, _, _, _\" and returns the filled sequence\n",
        "\n",
        "Ex: \n",
        "<pre>\n",
        "Input1: \"_,_,_,24\"\n",
        "Output1: 6,6,6,6\n",
        "\n",
        "Input2: \"40,_,_,_,60\"\n",
        "Output2: 20,20,20,20,20\n",
        "\n",
        "Input3: \"80,_,_,_,_\"\n",
        "Output3: 16,16,16,16,16\n",
        "\n",
        "Input4: \"_,_,30,_,_,_,50,_,_\"\n",
        "Output4: 10,10,12,12,12,12,4,4,4\n",
        "\n",
        "</pre>\n",
        "\n"
      ]
    },
    {
      "cell_type": "code",
      "execution_count": 6,
      "metadata": {
        "id": "nZmpzHs_B-k-",
        "colab": {
          "base_uri": "https://localhost:8080/",
          "height": 0
        },
        "outputId": "f6177d18-0a26-4848-8884-29ca7b1a1fa8"
      },
      "outputs": [
        {
          "output_type": "stream",
          "name": "stdout",
          "text": [
            "[10, 10, 12, 12, 12, 12, 4, 4, 4]\n"
          ]
        }
      ],
      "source": [
        "from matplotlib.transforms import DEBUG\n",
        "\n",
        "import re\n",
        "\n",
        "def curve_smoothing(string):\n",
        "  # spliting string to get index\n",
        "    split_string = string.split(',')\n",
        "    # new_index is required after every loop to start again from next to new_index\n",
        "    new_index = 0\n",
        "    # new_value is required after every loop to start again to distribute values till next digit found         \n",
        "    new_value = 0         \n",
        "\n",
        "    # This loop will fill the missing values with distributed value till any digit found\n",
        "    for i in range(len(split_string)):\n",
        "      if str(split_string[i]).isdigit():\n",
        "        for j in range(i+1):\n",
        "          # getting distributed value and filling it in missing place\n",
        "           split_string[j] = int(split_string[i])//(i+1)\n",
        "        new_index = i\n",
        "        new_value = int(split_string[i])\n",
        "        break\n",
        "\n",
        "    # This loop will fill all the missing value after any digit found till next digit found\n",
        "    for number in split_string:\n",
        "      if isinstance(number,(int)):\n",
        "        for i in range(new_index+1, len(split_string)):\n",
        "          if split_string[i].isdigit():\n",
        "            # calculating distributed sum i.e(10+50) to fill in between missing values\n",
        "            temp = (new_value + int(split_string[i]))//(i-new_index+1)\n",
        "            # filling distributed value in between missing values\n",
        "            for j in range(new_index, i+1):\n",
        "              split_string[j] = temp\n",
        "            new_index = i\n",
        "            new_value = int(split_string[i])\n",
        "\n",
        "    # Now will destribute last new_value till right missing places\n",
        "    # for this part of loop taken help from StackOverFlow\n",
        "    try:\n",
        "      for i in range(new_index+1,len(split_string)):\n",
        "        if not(split_string[i].isdigit()):\n",
        "          # counting all missing values to fill in\n",
        "          count_missing_value = split_string.count('_')\n",
        "          break\n",
        "      # distributing new value to remaining missing places\n",
        "      temp = new_value // (count_missing_value + 1)\n",
        "      for i in range(new_index, len(split_string)):\n",
        "        split_string[i] = temp\n",
        "    except:\n",
        "      pass\n",
        "    return split_string\n",
        "\n",
        "\n",
        "Input1 = \"_,_,_,24\"\n",
        "Input2 = \"40,_,_,_,60\"\n",
        "Input3 = \"80,_,_,_,_\"\n",
        "Input4 = \"_,_,30,_,_,_,50,_,_\"\n",
        "smoothed_values= curve_smoothing(Input4)\n",
        "print(smoothed_values)"
      ]
    },
    {
      "cell_type": "code",
      "source": [
        ""
      ],
      "metadata": {
        "id": "5hORj5rWVjpT"
      },
      "execution_count": null,
      "outputs": []
    },
    {
      "cell_type": "markdown",
      "metadata": {
        "id": "RBz4pzlfB-lB"
      },
      "source": [
        "<h3> Q8: Filling the missing values in the specified formate</h3>\n",
        "You will be given a list of lists, each sublist will be of length 2 i.e. [[x,y],[p,q],[l,m]..[r,s]]\n",
        "consider its like a martrix of n rows and two columns\n",
        "1. the first column F will contain only 5 uniques values (F1, F2, F3, F4, F5)\n",
        "2. the second column S will contain only 3 uniques values (S1, S2, S3)\n",
        "<pre>\n",
        "your task is to find\n",
        "a. Probability of P(F=F1|S==S1), P(F=F1|S==S2), P(F=F1|S==S3)\n",
        "b. Probability of P(F=F2|S==S1), P(F=F2|S==S2), P(F=F2|S==S3)\n",
        "c. Probability of P(F=F3|S==S1), P(F=F3|S==S2), P(F=F3|S==S3)\n",
        "d. Probability of P(F=F4|S==S1), P(F=F4|S==S2), P(F=F4|S==S3)\n",
        "e. Probability of P(F=F5|S==S1), P(F=F5|S==S2), P(F=F5|S==S3)\n",
        "</pre>\n",
        "Ex:\n",
        "\n",
        "<pre>\n",
        "[[F1,S1],[F2,S2],[F3,S3],[F1,S2],[F2,S3],[F3,S2],[F2,S1],[F4,S1],[F4,S3],[F5,S1]]\n",
        "\n",
        "a. P(F=F1|S==S1)=1/4, P(F=F1|S==S2)=1/3, P(F=F1|S==S3)=0/3\n",
        "b. P(F=F2|S==S1)=1/4, P(F=F2|S==S2)=1/3, P(F=F2|S==S3)=1/3\n",
        "c. P(F=F3|S==S1)=0/4, P(F=F3|S==S2)=1/3, P(F=F3|S==S3)=1/3\n",
        "d. P(F=F4|S==S1)=1/4, P(F=F4|S==S2)=0/3, P(F=F4|S==S3)=1/3\n",
        "e. P(F=F5|S==S1)=1/4, P(F=F5|S==S2)=0/3, P(F=F5|S==S3)=0/3\n",
        "</pre>\n",
        "\n",
        "\n"
      ]
    },
    {
      "cell_type": "code",
      "execution_count": 7,
      "metadata": {
        "id": "e-1giz1MB-lC",
        "colab": {
          "base_uri": "https://localhost:8080/",
          "height": 0
        },
        "outputId": "634765d7-3804-4658-85b4-edb16d0c1a01"
      },
      "outputs": [
        {
          "output_type": "stream",
          "name": "stdout",
          "text": [
            "P(F=F1|S==S1)=1/4\n",
            "P(F=F1|S==S2)=1/3\n",
            "P(F=F1|S==S3)=0/3\n",
            "P(F=F2|S==S1)=1/4\n",
            "P(F=F2|S==S2)=1/3\n",
            "P(F=F2|S==S3)=1/3\n",
            "P(F=F3|S==S1)=0/4\n",
            "P(F=F3|S==S2)=1/3\n",
            "P(F=F3|S==S3)=1/3\n",
            "P(F=F4|S==S1)=1/4\n",
            "P(F=F4|S==S2)=0/3\n",
            "P(F=F4|S==S3)=1/3\n",
            "P(F=F5|S==S1)=1/4\n",
            "P(F=F5|S==S2)=0/3\n",
            "P(F=F5|S==S3)=0/3\n"
          ]
        }
      ],
      "source": [
        "def compute_conditional_probabilites(A,F,S):\n",
        "  # initializing numerator and denominator values to 0\n",
        "  numerator,denominator = 0,0\n",
        "\n",
        "  # function to calculate conditional probability of lists of list\n",
        "  for i in range(len(A)):\n",
        "    if A[i][1] == S:\n",
        "      denominator += 1;\n",
        "      if A[i][0] == F:\n",
        "        numerator += 1;\n",
        "  return numerator, denominator\n",
        "\n",
        "A = [['F1','S1'],['F2','S2'],['F3','S3'],['F1','S2'],['F2','S3'],['F3','S2'],['F2','S1'],['F4','S1'],['F4','S3'],['F5','S1']]\n",
        "\n",
        "# Five unique values of column F\n",
        "First_Column = ['F1','F2','F3','F4','F5']\n",
        "# Thre unique values of column S\n",
        "Second_Column = ['S1','S2','S3']\n",
        "\n",
        "result = []\n",
        "# Iterating over the First Column values\n",
        "for F in range(len(First_Column)):\n",
        "  # Iterating over the Second Column values\n",
        "  for S in range(len(Second_Column)):\n",
        "    numerator, denominator = compute_conditional_probabilites(A,First_Column[F],Second_Column[S])\n",
        "    # Displaying probability of lists of list in specified formate\n",
        "    print(('P(F={}|S=={})={}/{}'.format(First_Column[F], Second_Column[S], str(numerator), str(denominator))))"
      ]
    },
    {
      "cell_type": "markdown",
      "metadata": {
        "id": "n4HS87QmB-lF"
      },
      "source": [
        "<h3> Q9: Given two sentances S1, S2</h3>\n",
        "You will be given two sentances S1, S2 your task is to find \n",
        "<pre>\n",
        "a. Number of common words between S1, S2\n",
        "b. Words in S1 but not in S2\n",
        "c. Words in S2 but not in S1\n",
        "</pre>\n",
        "\n",
        "Ex: \n",
        "<pre>\n",
        "S1= \"the first column F will contain only 5 uniques values\"\n",
        "S2= \"the second column S will contain only 3 uniques values\"\n",
        "Output:\n",
        "a. 7\n",
        "b. ['first','F','5']\n",
        "c. ['second','S','3']\n",
        "</pre>"
      ]
    },
    {
      "cell_type": "code",
      "execution_count": 8,
      "metadata": {
        "id": "Ez7hlHK0B-lG",
        "colab": {
          "base_uri": "https://localhost:8080/",
          "height": 0
        },
        "outputId": "747d14d9-913d-4f7f-8d74-78ba620afce2"
      },
      "outputs": [
        {
          "output_type": "stream",
          "name": "stdout",
          "text": [
            "a. 7\n",
            "b. ['first', 'F', '5']\n",
            "c. ['second', 'S', '3']\n"
          ]
        }
      ],
      "source": [
        "def string_features(S1, S2):\n",
        "  a = 0  # Common Words between S1 and S2\n",
        "  b = []  # Words in S1 but not in S2\n",
        "  c = []  # Words in S2 but not in S1\n",
        "\n",
        "  # converting string into list of string\n",
        "  S1_list = list(S1.split(\" \"))\n",
        "  S2_list = list(S2.split(\" \"))\n",
        "  \n",
        "  # Number of common words between S1 and S2\n",
        "  for i in range(len(S1_list)):\n",
        "    for j in range(len(S2_list)):\n",
        "      if S1_list[i] == S2_list[j]:\n",
        "        a += 1\n",
        "\n",
        "  # Words in S1 but not in S2\n",
        "  for i in S1_list:\n",
        "    if i not in S2_list:\n",
        "      b.append(i)\n",
        "\n",
        "  # words in S2 but not in S1\n",
        "  for j in S2_list:\n",
        "    if j not in S1_list:\n",
        "      c.append(j)\n",
        "\n",
        "  return a, b, c\n",
        "\n",
        "S1= \"the first column F will contain only 5 uniques values\"\n",
        "S2= \"the second column S will contain only 3 uniques values\"\n",
        "a,b,c = string_features(S1, S2)\n",
        "print('a.',a)\n",
        "print('b.',b)\n",
        "print('c.',c)"
      ]
    },
    {
      "cell_type": "markdown",
      "metadata": {
        "id": "XefXVEjCB-lI"
      },
      "source": [
        "<h3> Q10: Given two sentances S1, S2</h3>\n",
        "You will be given a list of lists, each sublist will be of length 2 i.e. [[x,y],[p,q],[l,m]..[r,s]]\n",
        "consider its like a martrix of n rows and two columns\n",
        "\n",
        "a. the first column Y will contain interger values <br>\n",
        "b. the second column $Y_{score}$ will be having float values <br>\n",
        "Your task is to find the value of $f(Y,Y_{score}) = -1*\\frac{1}{n}\\Sigma_{for each Y,Y_{score} pair}(Ylog10(Y_{score})+(1-Y)log10(1-Y_{score}))$ here n is the number of rows in the matrix\n",
        "<pre>\n",
        "Ex:\n",
        "[[1, 0.4], [0, 0.5], [0, 0.9], [0, 0.3], [0, 0.6], [1, 0.1], [1, 0.9], [1, 0.8]]\n",
        "output:\n",
        "0.4243099\n",
        "</pre>\n",
        "$\\frac{-1}{8}\\cdot((1\\cdot log_{10}(0.4)+0\\cdot log_{10}(0.6))+(0\\cdot log_{10}(0.5)+1\\cdot log_{10}(0.5)) + ... + (1\\cdot log_{10}(0.8)+0\\cdot log_{10}(0.2)) )$"
      ]
    },
    {
      "cell_type": "code",
      "execution_count": 9,
      "metadata": {
        "id": "N9zkagyNB-lJ",
        "colab": {
          "base_uri": "https://localhost:8080/",
          "height": 0
        },
        "outputId": "d58615b2-9e69-4193-9716-808c53806913"
      },
      "outputs": [
        {
          "output_type": "stream",
          "name": "stdout",
          "text": [
            "0.4243099\n"
          ]
        }
      ],
      "source": [
        "import math\n",
        "def compute_log_loss(A):\n",
        "    loss = 0\n",
        "    # length of a List A\n",
        "    n = len(A)\n",
        "    for i in range(len(A)):\n",
        "      # Equation to get the loss of function f(Y,Yscore)\n",
        "      loss += (A[i][0] * math.log10(A[i][1])) + ((1 - A[i][0]) * (math.log10(1-A[i][1])))\n",
        "    result = (-1 * loss)/n\n",
        "    return result\n",
        "\n",
        "A = [[1, 0.4], [0, 0.5], [0, 0.9], [0, 0.3], [0, 0.6], [1, 0.1], [1, 0.9], [1, 0.8]]\n",
        "loss = compute_log_loss(A)\n",
        "print(round(loss,7))"
      ]
    },
    {
      "cell_type": "code",
      "source": [
        ""
      ],
      "metadata": {
        "id": "__yMIZU22lje"
      },
      "execution_count": null,
      "outputs": []
    }
  ],
  "metadata": {
    "colab": {
      "collapsed_sections": [],
      "name": "Python Mandatory Assignment.ipynb",
      "provenance": []
    },
    "kernelspec": {
      "display_name": "Python 3",
      "language": "python",
      "name": "python3"
    },
    "language_info": {
      "codemirror_mode": {
        "name": "ipython",
        "version": 3
      },
      "file_extension": ".py",
      "mimetype": "text/x-python",
      "name": "python",
      "nbconvert_exporter": "python",
      "pygments_lexer": "ipython3",
      "version": "3.6.3"
    }
  },
  "nbformat": 4,
  "nbformat_minor": 0
}