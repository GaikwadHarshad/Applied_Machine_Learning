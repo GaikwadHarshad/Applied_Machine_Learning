{
  "nbformat": 4,
  "nbformat_minor": 0,
  "metadata": {
    "colab": {
      "name": "Implementing_TF-IDF_Vectorizer.ipynb",
      "provenance": [],
      "collapsed_sections": []
    },
    "kernelspec": {
      "display_name": "Python 3",
      "language": "python",
      "name": "python3"
    },
    "language_info": {
      "codemirror_mode": {
        "name": "ipython",
        "version": 3
      },
      "file_extension": ".py",
      "mimetype": "text/x-python",
      "name": "python",
      "nbconvert_exporter": "python",
      "pygments_lexer": "ipython3",
      "version": "3.7.1"
    }
  },
  "cells": [
    {
      "cell_type": "markdown",
      "metadata": {
        "id": "h9464I-uxLiw"
      },
      "source": [
        "# Assignment"
      ]
    },
    {
      "cell_type": "markdown",
      "metadata": {
        "id": "IvLvmewlxLix"
      },
      "source": [
        "<font face='georgia'>\n",
        "    \n",
        "   <h4><strong>What does tf-idf mean?</strong></h4>\n",
        "\n",
        "   <p>    \n",
        "Tf-idf stands for <em>term frequency-inverse document frequency</em>, and the tf-idf weight is a weight often used in information retrieval and text mining. This weight is a statistical measure used to evaluate how important a word is to a document in a collection or corpus. The importance increases proportionally to the number of times a word appears in the document but is offset by the frequency of the word in the corpus. Variations of the tf-idf weighting scheme are often used by search engines as a central tool in scoring and ranking a document's relevance given a user query.\n",
        "</p>\n",
        "    \n",
        "   <p>\n",
        "One of the simplest ranking functions is computed by summing the tf-idf for each query term; many more sophisticated ranking functions are variants of this simple model.\n",
        "</p>\n",
        "    \n",
        "   <p>\n",
        "Tf-idf can be successfully used for stop-words filtering in various subject fields including text summarization and classification.\n",
        "</p>\n",
        "    \n",
        "</font>"
      ]
    },
    {
      "cell_type": "markdown",
      "metadata": {
        "id": "4XLaGFUMxLiy"
      },
      "source": [
        "<font face='georgia'>\n",
        "    <h4><strong>How to Compute:</strong></h4>\n",
        "\n",
        "Typically, the tf-idf weight is composed by two terms: the first computes the normalized Term Frequency (TF), aka. the number of times a word appears in a document, divided by the total number of words in that document; the second term is the Inverse Document Frequency (IDF), computed as the logarithm of the number of the documents in the corpus divided by the number of documents where the specific term appears.\n",
        "\n",
        " <ul>\n",
        "    <li>\n",
        "<strong>TF:</strong> Term Frequency, which measures how frequently a term occurs in a document. Since every document is different in length, it is possible that a term would appear much more times in long documents than shorter ones. Thus, the term frequency is often divided by the document length (aka. the total number of terms in the document) as a way of normalization: <br>\n",
        "\n",
        "$TF(t) = \\frac{\\text{Number of times term t appears in a document}}{\\text{Total number of terms in the document}}.$\n",
        "</li>\n",
        "<li>\n",
        "<strong>IDF:</strong> Inverse Document Frequency, which measures how important a term is. While computing TF, all terms are considered equally important. However it is known that certain terms, such as \"is\", \"of\", and \"that\", may appear a lot of times but have little importance. Thus we need to weigh down the frequent terms while scale up the rare ones, by computing the following: <br>\n",
        "\n",
        "$IDF(t) = \\log_{e}\\frac{\\text{Total  number of documents}} {\\text{Number of documents with term t in it}}.$\n",
        "for numerical stabiltiy we will be changing this formula little bit\n",
        "$IDF(t) = \\log_{e}\\frac{\\text{Total  number of documents}} {\\text{Number of documents with term t in it}+1}.$\n",
        "</li>\n",
        "</ul>\n",
        "\n",
        "<br>\n",
        "<h4><strong>Example</strong></h4>\n",
        "<p>\n",
        "\n",
        "Consider a document containing 100 words wherein the word cat appears 3 times. The term frequency (i.e., tf) for cat is then (3 / 100) = 0.03. Now, assume we have 10 million documents and the word cat appears in one thousand of these. Then, the inverse document frequency (i.e., idf) is calculated as log(10,000,000 / 1,000) = 4. Thus, the Tf-idf weight is the product of these quantities: 0.03 * 4 = 0.12.\n",
        "</p>\n",
        "</font>"
      ]
    },
    {
      "cell_type": "markdown",
      "metadata": {
        "id": "dg2ooa4DxLiz"
      },
      "source": [
        "## Task-1"
      ]
    },
    {
      "cell_type": "markdown",
      "metadata": {
        "id": "TAcTjhO8xLiz"
      },
      "source": [
        "<font face='georgia'>\n",
        "    <h4><strong>1. Build a TFIDF Vectorizer & compare its results with Sklearn:</strong></h4>\n",
        "\n",
        "<ul>\n",
        "    <li> As a part of this task you will be implementing TFIDF vectorizer on a collection of text documents.</li>\n",
        "    <br>\n",
        "    <li> You should compare the results of your own implementation of TFIDF vectorizer with that of sklearns implemenation TFIDF vectorizer.</li>\n",
        "    <br>\n",
        "    <li> Sklearn does few more tweaks in the implementation of its version of TFIDF vectorizer, so to replicate the exact results you would need to add following things to your custom implementation of tfidf vectorizer:\n",
        "       <ol>\n",
        "        <li> Sklearn has its vocabulary generated from idf sroted in alphabetical order</li>\n",
        "        <li> Sklearn formula of idf is different from the standard textbook formula. Here the constant <strong>\"1\"</strong> is added to the numerator and denominator of the idf as if an extra document was seen containing every term in the collection exactly once, which prevents zero divisions.\n",
        "            \n",
        " $IDF(t) = 1+\\log_{e}\\frac{1\\text{ }+\\text{ Total  number of documents in collection}} {1+\\text{Number of documents with term t in it}}.$\n",
        "        </li>\n",
        "        <li> Sklearn applies L2-normalization on its output matrix.</li>\n",
        "        <li> The final output of sklearn tfidf vectorizer is a sparse matrix.</li>\n",
        "    </ol>\n",
        "    <br>\n",
        "    <li>Steps to approach this task:\n",
        "    <ol>\n",
        "        <li> You would have to write both fit and transform methods for your custom implementation of tfidf vectorizer.</li>\n",
        "        <li> Print out the alphabetically sorted voacb after you fit your data and check if its the same as that of the feature names from sklearn tfidf vectorizer. </li>\n",
        "        <li> Print out the idf values from your implementation and check if its the same as that of sklearns tfidf vectorizer idf values. </li>\n",
        "        <li> Once you get your voacb and idf values to be same as that of sklearns implementation of tfidf vectorizer, proceed to the below steps. </li>\n",
        "        <li> Make sure the output of your implementation is a sparse matrix. Before generating the final output, you need to normalize your sparse matrix using L2 normalization. You can refer to this link https://scikit-learn.org/stable/modules/generated/sklearn.preprocessing.normalize.html </li>\n",
        "        <li> After completing the above steps, print the output of your custom implementation and compare it with sklearns implementation of tfidf vectorizer.</li>\n",
        "        <li> To check the output of a single document in your collection of documents,  you can convert the sparse matrix related only to that document into dense matrix and print it.</li>\n",
        "        </ol>\n",
        "    </li>\n",
        "    <br>\n",
        "   </ul>\n",
        "\n",
        "  <p> <font color=\"#e60000\"><strong>Note-1: </strong></font> All the necessary outputs of sklearns tfidf vectorizer have been provided as reference in this notebook, you can compare your outputs as mentioned in the above steps, with these outputs.<br>\n",
        "   <font color=\"#e60000\"><strong>Note-2: </strong></font> The output of your custom implementation and that of sklearns implementation would match only with the collection of document strings provided to you as reference in this notebook. It would not match for strings that contain capital letters or punctuations, etc, because sklearn version of tfidf vectorizer deals with such strings in a different way. To know further details about how sklearn tfidf vectorizer works with such string, you can always refer to its official documentation.<br>\n",
        "   <font color=\"#e60000\"><strong>Note-3: </strong></font> During this task, it would be helpful for you to debug the code you write with print statements wherever necessary. But when you are finally submitting the assignment, make sure your code is readable and try not to print things which are not part of this task.\n",
        "    </p>"
      ]
    },
    {
      "cell_type": "markdown",
      "metadata": {
        "id": "OnV82tg1xLi0"
      },
      "source": [
        "### Corpus"
      ]
    },
    {
      "cell_type": "code",
      "metadata": {
        "id": "bUsYm9wjxLi1"
      },
      "source": [
        "## SkLearn# Collection of string documents\n",
        "\n",
        "corpus = [\n",
        "     'this is the first document',\n",
        "     'this document is the second document',\n",
        "     'and this is the third one',\n",
        "     'is this the first document',\n",
        "]"
      ],
      "execution_count": 1,
      "outputs": []
    },
    {
      "cell_type": "markdown",
      "metadata": {
        "id": "eLwmFZfKxLi4"
      },
      "source": [
        "### SkLearn Implementation"
      ]
    },
    {
      "cell_type": "code",
      "metadata": {
        "id": "Np4dfQOkxLi4"
      },
      "source": [
        "from sklearn.feature_extraction.text import TfidfVectorizer\n",
        "vectorizer = TfidfVectorizer()\n",
        "vectorizer.fit(corpus)\n",
        "skl_output = vectorizer.transform(corpus)"
      ],
      "execution_count": 2,
      "outputs": []
    },
    {
      "cell_type": "code",
      "metadata": {
        "id": "-7Om8YpYxLi6",
        "outputId": "a16d7e32-12c0-4229-929f-33f743a5f56e",
        "colab": {
          "base_uri": "https://localhost:8080/",
          "height": 0
        }
      },
      "source": [
        "# sklearn feature names, they are sorted in alphabetic order by default.\n",
        "print(vectorizer.get_feature_names())"
      ],
      "execution_count": 3,
      "outputs": [
        {
          "output_type": "stream",
          "name": "stdout",
          "text": [
            "['and', 'document', 'first', 'is', 'one', 'second', 'the', 'third', 'this']\n"
          ]
        },
        {
          "output_type": "stream",
          "name": "stderr",
          "text": [
            "/usr/local/lib/python3.7/dist-packages/sklearn/utils/deprecation.py:87: FutureWarning: Function get_feature_names is deprecated; get_feature_names is deprecated in 1.0 and will be removed in 1.2. Please use get_feature_names_out instead.\n",
            "  warnings.warn(msg, category=FutureWarning)\n"
          ]
        }
      ]
    },
    {
      "cell_type": "code",
      "metadata": {
        "id": "dTKplK96xLi-",
        "outputId": "377fa069-1f6b-4d6c-d386-afbfe2c3e88c",
        "colab": {
          "base_uri": "https://localhost:8080/",
          "height": 0
        }
      },
      "source": [
        "# After using the fit function on the corpus the vocab has 9 words in it, and each has its idf value.\n",
        "print(vectorizer.idf_)"
      ],
      "execution_count": 4,
      "outputs": [
        {
          "output_type": "stream",
          "name": "stdout",
          "text": [
            "[1.91629073 1.22314355 1.51082562 1.         1.91629073 1.91629073\n",
            " 1.         1.91629073 1.        ]\n"
          ]
        }
      ]
    },
    {
      "cell_type": "code",
      "metadata": {
        "id": "-CTiWHygxLjA",
        "outputId": "b836ef1b-4b41-41be-d072-cfc775cb53e1",
        "colab": {
          "base_uri": "https://localhost:8080/",
          "height": 0
        }
      },
      "source": [
        "# shape of sklearn tfidf vectorizer output after applying transform method.\n",
        "skl_output.shape"
      ],
      "execution_count": 5,
      "outputs": [
        {
          "output_type": "execute_result",
          "data": {
            "text/plain": [
              "(4, 9)"
            ]
          },
          "metadata": {},
          "execution_count": 5
        }
      ]
    },
    {
      "cell_type": "code",
      "metadata": {
        "id": "bDKEpbA-xLjD",
        "outputId": "7439d226-bea2-4168-faa2-1f79e0821d43",
        "colab": {
          "base_uri": "https://localhost:8080/",
          "height": 0
        }
      },
      "source": [
        "# sklearn tfidf values for first line of the above corpus.\n",
        "# Here the output is a sparse matrix\n",
        "print(skl_output[0])"
      ],
      "execution_count": 6,
      "outputs": [
        {
          "output_type": "stream",
          "name": "stdout",
          "text": [
            "  (0, 8)\t0.38408524091481483\n",
            "  (0, 6)\t0.38408524091481483\n",
            "  (0, 3)\t0.38408524091481483\n",
            "  (0, 2)\t0.5802858236844359\n",
            "  (0, 1)\t0.46979138557992045\n"
          ]
        }
      ]
    },
    {
      "cell_type": "code",
      "metadata": {
        "id": "3QWo34hexLjF",
        "outputId": "4405d411-1d7b-423c-95a4-13b708e32eb2",
        "colab": {
          "base_uri": "https://localhost:8080/",
          "height": 0
        }
      },
      "source": [
        "# sklearn tfidf values for first line of the above corpus.\n",
        "# To understand the output better, here we are converting the sparse output matrix to dense matrix and printing it.\n",
        "# Notice that this output is normalized using L2 normalization. sklearn does this by default.\n",
        "\n",
        "print(skl_output[0].toarray())"
      ],
      "execution_count": 7,
      "outputs": [
        {
          "output_type": "stream",
          "name": "stdout",
          "text": [
            "[[0.         0.46979139 0.58028582 0.38408524 0.         0.\n",
            "  0.38408524 0.         0.38408524]]\n"
          ]
        }
      ]
    },
    {
      "cell_type": "markdown",
      "metadata": {
        "id": "qfIwx5LzxLjI"
      },
      "source": [
        "### Your custom implementation"
      ]
    },
    {
      "cell_type": "code",
      "metadata": {
        "id": "HjuCcJwXxLjJ",
        "outputId": "735a8335-bfcc-47f7-c1ae-e7b4850b719f",
        "colab": {
          "base_uri": "https://localhost:8080/",
          "height": 0
        }
      },
      "source": [
        "# Importing required libraries\n",
        "from collections import Counter\n",
        "from tqdm import tqdm\n",
        "from scipy.sparse import csr_matrix\n",
        "import math\n",
        "import operator\n",
        "from sklearn.preprocessing import normalize\n",
        "import numpy\n",
        "\n",
        "# fitting the tfidf vectorizer on corpus\n",
        "def fit(dataset):\n",
        "  unique_words = set(); \n",
        "  if isinstance(dataset,(list,)):\n",
        "    # looping over each document in the corpus\n",
        "    for row in dataset:\n",
        "      # seperating each word from the row\n",
        "      for word in row.split(\" \"):\n",
        "        if len(word) < 2:\n",
        "          continue\n",
        "        # adding each word/adjective in list\n",
        "        unique_words.add(word)\n",
        "    # sorting unique_words list in ascending order    \n",
        "    unique_words = sorted(list(unique_words))\n",
        "    # getting dimension of unique_words  \n",
        "    vocabulary = {j:i for i,j in enumerate(unique_words)}  \n",
        "    return vocabulary\n",
        "  else:\n",
        "    print(\"You need to pass list of string\")\n",
        "\n",
        "# fitting the model on corpus data\n",
        "vectorizer = fit(corpus)\n",
        "print(vectorizer)\n",
        "\n",
        "# transforming the tfidf vectorizer using tf and idf technique\n",
        "def transform(dataset,vocabulary):\n",
        "  rows = []     # rows to add index of document from corpus\n",
        "  columns = []  # colmuns to add column index \n",
        "  values = []   # values to append tf-idf values of each words\n",
        "\n",
        "  if isinstance(dataset,(list,)):\n",
        "    # looping over each document in the corpus\n",
        "    for idx,row in enumerate(tqdm(dataset)):\n",
        "      # creating dictionary for word frequency\n",
        "      word_freq = dict(Counter(row.split(\" \")))\n",
        "      # getting word along with its freq of each word in row\n",
        "      for word,freq in word_freq.items():\n",
        "        if len(word) < 2:\n",
        "          continue\n",
        "        # get column index of a word which present in vocabulary\n",
        "        column_index = vocabulary.get(word,-1)\n",
        "        # if index not -1, perform tf-idf\n",
        "        if column_index != -1:\n",
        "          rows.append(idx)\n",
        "          columns.append(column_index)\n",
        "          # calculate Term Frequency(TF)\n",
        "          tf = freq/float(len(row))\n",
        "          # calculate Inverse Document Frequency(IDF)\n",
        "          idf_ = 1+math.log((1+float(len(dataset))) / float((1+idf(dataset,word))))\n",
        "          # multiply tf and idf values to get tf-idf score for a word\n",
        "          values.append((tf) * (idf_))\n",
        "    # L2 Normalization on output matrix which is sparse matrix\n",
        "    return normalize(csr_matrix((values,(rows,columns)),shape=(len(dataset),len(vocabulary))),norm=\"l2\")\n",
        "  else:\n",
        "    print(\"You need to pass list of string\")\n",
        "\n",
        "# calculate the IDF value for its words in the given corpus\n",
        "def idf(dataset,word):\n",
        "  term_occur = 0\n",
        "  for i in dataset:\n",
        "    # splitting each word from row\n",
        "    if word in i.split(\" \"):\n",
        "      # get occurence of a term\n",
        "      term_occur += 1\n",
        "  return term_occur\n",
        "\n",
        "# transform the tf-idf vectorizer\n",
        "tfidf_vectorizer = transform(corpus,vectorizer)\n",
        "print(tfidf_vectorizer)"
      ],
      "execution_count": 8,
      "outputs": [
        {
          "output_type": "stream",
          "name": "stdout",
          "text": [
            "{'and': 0, 'document': 1, 'first': 2, 'is': 3, 'one': 4, 'second': 5, 'the': 6, 'third': 7, 'this': 8}\n"
          ]
        },
        {
          "output_type": "stream",
          "name": "stderr",
          "text": [
            "100%|██████████| 4/4 [00:00<00:00, 6845.05it/s]"
          ]
        },
        {
          "output_type": "stream",
          "name": "stdout",
          "text": [
            "  (0, 1)\t0.46979138557992045\n",
            "  (0, 2)\t0.5802858236844359\n",
            "  (0, 3)\t0.3840852409148149\n",
            "  (0, 6)\t0.3840852409148149\n",
            "  (0, 8)\t0.3840852409148149\n",
            "  (1, 1)\t0.6876235979836938\n",
            "  (1, 3)\t0.2810886740337529\n",
            "  (1, 5)\t0.5386476208856763\n",
            "  (1, 6)\t0.2810886740337529\n",
            "  (1, 8)\t0.2810886740337529\n",
            "  (2, 0)\t0.511848512707169\n",
            "  (2, 3)\t0.267103787642168\n",
            "  (2, 4)\t0.511848512707169\n",
            "  (2, 6)\t0.267103787642168\n",
            "  (2, 7)\t0.511848512707169\n",
            "  (2, 8)\t0.267103787642168\n",
            "  (3, 1)\t0.46979138557992045\n",
            "  (3, 2)\t0.5802858236844359\n",
            "  (3, 3)\t0.3840852409148149\n",
            "  (3, 6)\t0.3840852409148149\n",
            "  (3, 8)\t0.3840852409148149\n"
          ]
        },
        {
          "output_type": "stream",
          "name": "stderr",
          "text": [
            "\n"
          ]
        }
      ]
    },
    {
      "cell_type": "markdown",
      "metadata": {
        "id": "MMxBmVZExLjK"
      },
      "source": [
        "## Task-2"
      ]
    },
    {
      "cell_type": "markdown",
      "metadata": {
        "id": "51j_OtqAxLjL"
      },
      "source": [
        "<font face='georgia'>\n",
        "    <h4><strong>2. Implement max features functionality:</strong></h4>\n",
        "\n",
        "<ul>\n",
        "    <li> As a part of this task you have to modify your fit and transform functions so that your vocab will contain only 50 terms with top idf scores.</li>\n",
        "    <br>\n",
        "    <li>This task is similar to your previous task, just that here your vocabulary is limited to only top 50 features names based on their idf values. Basically your output will have exactly 50 columns and the number of rows will depend on the number of documents you have in your corpus.</li>\n",
        "    <br>\n",
        "    <li>Here you will be give a pickle file, with file name <strong>cleaned_strings</strong>. You would have to load the corpus from this file and use it as input to your tfidf vectorizer.</li>\n",
        "    <br>\n",
        "    <li>Steps to approach this task:\n",
        "    <ol>\n",
        "        <li> You would have to write both fit and transform methods for your custom implementation of tfidf vectorizer, just like in the previous task. Additionally, here you have to limit the number of features generated to 50 as described above.</li>\n",
        "        <li> Now sort your vocab based in descending order of idf values and print out the words in the sorted voacb after you fit your data. Here you should be getting only 50 terms in your vocab. And make sure to print idf values for each term in your vocab. </li>\n",
        "        <li> Make sure the output of your implementation is a sparse matrix. Before generating the final output, you need to normalize your sparse matrix using L2 normalization. You can refer to this link https://scikit-learn.org/stable/modules/generated/sklearn.preprocessing.normalize.html </li>\n",
        "        <li> Now check the output of a single document in your collection of documents,  you can convert the sparse matrix related only to that document into dense matrix and print it. And this dense matrix should contain 1 row and 50 columns. </li>\n",
        "        </ol>\n",
        "    </li>\n",
        "    <br>\n",
        "   </ul>"
      ]
    },
    {
      "cell_type": "code",
      "metadata": {
        "id": "NHxPLlwNxLjL",
        "outputId": "1c5b42b9-6ba9-4d20-c82c-a33edc59d5cd",
        "colab": {
          "base_uri": "https://localhost:8080/",
          "height": 0
        }
      },
      "source": [
        "import pickle\n",
        "with open('cleaned_strings', 'rb') as f:\n",
        "    corpus = pickle.load(f)\n",
        "    \n",
        "# printing the length of the corpus loaded\n",
        "print(\"Number of documents in corpus = \",len(corpus))"
      ],
      "execution_count": 10,
      "outputs": [
        {
          "output_type": "stream",
          "name": "stdout",
          "text": [
            "Number of documents in corpus =  746\n"
          ]
        }
      ]
    },
    {
      "cell_type": "code",
      "metadata": {
        "id": "ZULfoOIdxLjQ"
      },
      "source": [
        "from enum import unique\n",
        "\n",
        "def fit_top_50(dataset):\n",
        "  unique_words_list = []\n",
        "  idf_values_list = []\n",
        "  if isinstance(dataset,(list,)):\n",
        "    # looping over each document in the corpus\n",
        "    for row in dataset:\n",
        "      for word in row.split(\" \"):\n",
        "        # adding unique word in list\n",
        "        if len(word) >= 2 and word not in unique_words_list:\n",
        "          unique_words_list.append(word)\n",
        "    for u_word in unique_words_list:\n",
        "      # get idf value for each unique word\n",
        "      idf_value = 1+(math.log((1+float(len(dataset))) / float(1+idf(dataset,u_word))))\n",
        "      # store idf value in list\n",
        "      idf_values_list.append(idf_value)\n",
        "    # combine unique word with its idf value\n",
        "    combined_unique_words_with_idf_value = zip(idf_values_list,unique_words_list)\n",
        "    # sort combined list in descending order with idf value\n",
        "    sorted_combined_unique_words_with_idf_value = sorted(combined_unique_words_with_idf_value, reverse=True)\n",
        "    sorted_unique_words_list = [element for _, element in sorted_combined_unique_words_with_idf_value]\n",
        "    # get the dimention/vocab of top 50 sorted unique word\n",
        "    vocab_top_50 = {j:i for i,j in enumerate(sorted_unique_words_list[:50])}\n",
        "    return vocab_top_50,sorted_combined_unique_words_with_idf_value[:50]\n",
        "  else:\n",
        "    print(\"you need to pass list of strings\")"
      ],
      "execution_count": 11,
      "outputs": []
    },
    {
      "cell_type": "code",
      "source": [
        "# fit top 50 feature\n",
        "vocabulary_50,top_50_word_with_IDF = fit_top_50(corpus)"
      ],
      "metadata": {
        "id": "QwGK_ODW-kbu"
      },
      "execution_count": 13,
      "outputs": []
    },
    {
      "cell_type": "code",
      "source": [
        "# chosen 50 word with their idf values\n",
        "for i,j in enumerate(top_50_word_with_IDF):\n",
        "  print(j)"
      ],
      "metadata": {
        "colab": {
          "base_uri": "https://localhost:8080/",
          "height": 0
        },
        "id": "p5vB7Jxmo5ul",
        "outputId": "a6856104-7923-4332-f046-269ed93a41cb"
      },
      "execution_count": 14,
      "outputs": [
        {
          "output_type": "stream",
          "name": "stdout",
          "text": [
            "(6.922918004572872, 'zombiez')\n",
            "(6.922918004572872, 'zillion')\n",
            "(6.922918004572872, 'yun')\n",
            "(6.922918004572872, 'youtube')\n",
            "(6.922918004572872, 'youthful')\n",
            "(6.922918004572872, 'younger')\n",
            "(6.922918004572872, 'yelps')\n",
            "(6.922918004572872, 'yawn')\n",
            "(6.922918004572872, 'yardley')\n",
            "(6.922918004572872, 'wrote')\n",
            "(6.922918004572872, 'writers')\n",
            "(6.922918004572872, 'wrap')\n",
            "(6.922918004572872, 'wow')\n",
            "(6.922918004572872, 'woven')\n",
            "(6.922918004572872, 'wouldnt')\n",
            "(6.922918004572872, 'worthy')\n",
            "(6.922918004572872, 'worthwhile')\n",
            "(6.922918004572872, 'worthless')\n",
            "(6.922918004572872, 'worry')\n",
            "(6.922918004572872, 'worked')\n",
            "(6.922918004572872, 'woo')\n",
            "(6.922918004572872, 'wont')\n",
            "(6.922918004572872, 'wong')\n",
            "(6.922918004572872, 'wondered')\n",
            "(6.922918004572872, 'woa')\n",
            "(6.922918004572872, 'witticisms')\n",
            "(6.922918004572872, 'within')\n",
            "(6.922918004572872, 'wise')\n",
            "(6.922918004572872, 'win')\n",
            "(6.922918004572872, 'wily')\n",
            "(6.922918004572872, 'willie')\n",
            "(6.922918004572872, 'william')\n",
            "(6.922918004572872, 'wild')\n",
            "(6.922918004572872, 'wih')\n",
            "(6.922918004572872, 'wife')\n",
            "(6.922918004572872, 'widmark')\n",
            "(6.922918004572872, 'wide')\n",
            "(6.922918004572872, 'whoever')\n",
            "(6.922918004572872, 'whites')\n",
            "(6.922918004572872, 'whine')\n",
            "(6.922918004572872, 'whenever')\n",
            "(6.922918004572872, 'went')\n",
            "(6.922918004572872, 'welsh')\n",
            "(6.922918004572872, 'weight')\n",
            "(6.922918004572872, 'wedding')\n",
            "(6.922918004572872, 'website')\n",
            "(6.922918004572872, 'weaving')\n",
            "(6.922918004572872, 'weariness')\n",
            "(6.922918004572872, 'weaker')\n",
            "(6.922918004572872, 'wb')\n"
          ]
        }
      ]
    },
    {
      "cell_type": "code",
      "source": [
        "def transform_top_50(dataset,vocab_top_50):\n",
        "  rows = []\n",
        "  columns = []\n",
        "  values = []\n",
        "  if isinstance(dataset,(list,)):\n",
        "    # looping over each document in the corpus\n",
        "    for idx,row in enumerate(tqdm(dataset)):\n",
        "      word_freq = dict(Counter(row.split(\" \")))\n",
        "      # for each unique word in the document\n",
        "      for word,freq in word_freq.items():\n",
        "        if len(word) >= 2:\n",
        "          # getting dimention of word from vocab that we build iin fit()\n",
        "          # if word is present in vocab_top_50 it will return index otherwise -1\n",
        "          dim_word = vocab_top_50.get(word,-1)\n",
        "          if dim_word != -1:\n",
        "            rows.append(idx)  # store index of row/document\n",
        "            columns.append(dim_word)  # store dimention of a word\n",
        "            # calculate Term Frequency\n",
        "            tf = freq/float(len(row.split()))\n",
        "            # calculate IDF value for a word\n",
        "            idf_ = 1+(math.log((1+float(len(dataset))) / float(1+idf(dataset,word))))\n",
        "            # store tf-idf values\n",
        "            values.append((tf)*(idf_))\n",
        "          # sparse matrix of if-idf values\n",
        "          sparseMatrix = csr_matrix((values,(rows,columns)), shape=(len(dataset),len(vocab_top_50)))\n",
        "          # normalize the sparse matrix with l2 normalization\n",
        "          L2_normalize_output = normalize(sparseMatrix,norm='l2')\n",
        "    return L2_normalize_output,sparseMatrix\n",
        "  else:\n",
        "    print(\"you need to pass list of strings\")\n",
        "\n",
        "# transform top_50 feature\n",
        "tf_idf_vectorized_top_50,final_sparseMatrix = transform_top_50(corpus, vocabulary_50)"
      ],
      "metadata": {
        "id": "QsVBIA1c-PtM",
        "colab": {
          "base_uri": "https://localhost:8080/",
          "height": 0
        },
        "outputId": "7e601938-d9e4-480f-8171-82d94a5d6730"
      },
      "execution_count": 15,
      "outputs": [
        {
          "output_type": "stream",
          "name": "stderr",
          "text": [
            "100%|██████████| 746/746 [00:03<00:00, 204.82it/s]\n"
          ]
        }
      ]
    },
    {
      "cell_type": "code",
      "source": [
        "# sparse matrix in sparse format\n",
        "final_sparseMatrix[0].toarray()"
      ],
      "metadata": {
        "colab": {
          "base_uri": "https://localhost:8080/",
          "height": 0
        },
        "id": "pseDTy86XFWp",
        "outputId": "9a4a8e6f-2b2a-4c5b-80c8-792a7067c8f8"
      },
      "execution_count": 17,
      "outputs": [
        {
          "output_type": "execute_result",
          "data": {
            "text/plain": [
              "array([[0., 0., 0., 0., 0., 0., 0., 0., 0., 0., 0., 0., 0., 0., 0., 0.,\n",
              "        0., 0., 0., 0., 0., 0., 0., 0., 0., 0., 0., 0., 0., 0., 0., 0.,\n",
              "        0., 0., 0., 0., 0., 0., 0., 0., 0., 0., 0., 0., 0., 0., 0., 0.,\n",
              "        0., 0.]])"
            ]
          },
          "metadata": {},
          "execution_count": 17
        }
      ]
    },
    {
      "cell_type": "code",
      "metadata": {
        "id": "1_DJnnR3xLjR",
        "colab": {
          "base_uri": "https://localhost:8080/",
          "height": 0
        },
        "outputId": "6c660ad6-91d8-4219-b1d8-70f3de707b47"
      },
      "source": [
        "# transformed top 50 words with l2 norm\n",
        "print(tf_idf_vectorized_top_50[0].toarray())"
      ],
      "execution_count": 19,
      "outputs": [
        {
          "output_type": "stream",
          "name": "stdout",
          "text": [
            "[[0. 0. 0. 0. 0. 0. 0. 0. 0. 0. 0. 0. 0. 0. 0. 0. 0. 0. 0. 0. 0. 0. 0. 0.\n",
            "  0. 0. 0. 0. 0. 0. 0. 0. 0. 0. 0. 0. 0. 0. 0. 0. 0. 0. 0. 0. 0. 0. 0. 0.\n",
            "  0. 0.]]\n"
          ]
        }
      ]
    },
    {
      "cell_type": "code",
      "source": [
        "# Clear way to visualize output is to convert to pandas dataframe and then use todense()\n",
        "tf_idf_output = tf_idf_vectorized_top_50[0]\n",
        "import pandas as pd\n",
        "# create dataframe with dense output with index as words and column as tf-idf\n",
        "tf_idf_df = pd.DataFrame(tf_idf_output.T.todense(), index=vocabulary_50.keys(), columns=['tf-idf'])\n",
        "tf_idf_df.sort_values(by=[\"tf-idf\"],ascending=False)\n",
        "tf_idf_df.T"
      ],
      "metadata": {
        "colab": {
          "base_uri": "https://localhost:8080/",
          "height": 191
        },
        "id": "U7nUu3ZaeTYC",
        "outputId": "b2b6de35-656e-4806-be9d-d9ed4d278816"
      },
      "execution_count": 20,
      "outputs": [
        {
          "output_type": "execute_result",
          "data": {
            "text/plain": [
              "        zombiez  zillion  yun  youtube  youthful  younger  yelps  yawn  \\\n",
              "tf-idf      0.0      0.0  0.0      0.0       0.0      0.0    0.0   0.0   \n",
              "\n",
              "        yardley  wrote  ...  whenever  went  welsh  weight  wedding  website  \\\n",
              "tf-idf      0.0    0.0  ...       0.0   0.0    0.0     0.0      0.0      0.0   \n",
              "\n",
              "        weaving  weariness  weaker   wb  \n",
              "tf-idf      0.0        0.0     0.0  0.0  \n",
              "\n",
              "[1 rows x 50 columns]"
            ],
            "text/html": [
              "\n",
              "  <div id=\"df-8185f8dd-303e-4b3d-a632-2130a9544e3f\">\n",
              "    <div class=\"colab-df-container\">\n",
              "      <div>\n",
              "<style scoped>\n",
              "    .dataframe tbody tr th:only-of-type {\n",
              "        vertical-align: middle;\n",
              "    }\n",
              "\n",
              "    .dataframe tbody tr th {\n",
              "        vertical-align: top;\n",
              "    }\n",
              "\n",
              "    .dataframe thead th {\n",
              "        text-align: right;\n",
              "    }\n",
              "</style>\n",
              "<table border=\"1\" class=\"dataframe\">\n",
              "  <thead>\n",
              "    <tr style=\"text-align: right;\">\n",
              "      <th></th>\n",
              "      <th>zombiez</th>\n",
              "      <th>zillion</th>\n",
              "      <th>yun</th>\n",
              "      <th>youtube</th>\n",
              "      <th>youthful</th>\n",
              "      <th>younger</th>\n",
              "      <th>yelps</th>\n",
              "      <th>yawn</th>\n",
              "      <th>yardley</th>\n",
              "      <th>wrote</th>\n",
              "      <th>...</th>\n",
              "      <th>whenever</th>\n",
              "      <th>went</th>\n",
              "      <th>welsh</th>\n",
              "      <th>weight</th>\n",
              "      <th>wedding</th>\n",
              "      <th>website</th>\n",
              "      <th>weaving</th>\n",
              "      <th>weariness</th>\n",
              "      <th>weaker</th>\n",
              "      <th>wb</th>\n",
              "    </tr>\n",
              "  </thead>\n",
              "  <tbody>\n",
              "    <tr>\n",
              "      <th>tf-idf</th>\n",
              "      <td>0.0</td>\n",
              "      <td>0.0</td>\n",
              "      <td>0.0</td>\n",
              "      <td>0.0</td>\n",
              "      <td>0.0</td>\n",
              "      <td>0.0</td>\n",
              "      <td>0.0</td>\n",
              "      <td>0.0</td>\n",
              "      <td>0.0</td>\n",
              "      <td>0.0</td>\n",
              "      <td>...</td>\n",
              "      <td>0.0</td>\n",
              "      <td>0.0</td>\n",
              "      <td>0.0</td>\n",
              "      <td>0.0</td>\n",
              "      <td>0.0</td>\n",
              "      <td>0.0</td>\n",
              "      <td>0.0</td>\n",
              "      <td>0.0</td>\n",
              "      <td>0.0</td>\n",
              "      <td>0.0</td>\n",
              "    </tr>\n",
              "  </tbody>\n",
              "</table>\n",
              "<p>1 rows × 50 columns</p>\n",
              "</div>\n",
              "      <button class=\"colab-df-convert\" onclick=\"convertToInteractive('df-8185f8dd-303e-4b3d-a632-2130a9544e3f')\"\n",
              "              title=\"Convert this dataframe to an interactive table.\"\n",
              "              style=\"display:none;\">\n",
              "        \n",
              "  <svg xmlns=\"http://www.w3.org/2000/svg\" height=\"24px\"viewBox=\"0 0 24 24\"\n",
              "       width=\"24px\">\n",
              "    <path d=\"M0 0h24v24H0V0z\" fill=\"none\"/>\n",
              "    <path d=\"M18.56 5.44l.94 2.06.94-2.06 2.06-.94-2.06-.94-.94-2.06-.94 2.06-2.06.94zm-11 1L8.5 8.5l.94-2.06 2.06-.94-2.06-.94L8.5 2.5l-.94 2.06-2.06.94zm10 10l.94 2.06.94-2.06 2.06-.94-2.06-.94-.94-2.06-.94 2.06-2.06.94z\"/><path d=\"M17.41 7.96l-1.37-1.37c-.4-.4-.92-.59-1.43-.59-.52 0-1.04.2-1.43.59L10.3 9.45l-7.72 7.72c-.78.78-.78 2.05 0 2.83L4 21.41c.39.39.9.59 1.41.59.51 0 1.02-.2 1.41-.59l7.78-7.78 2.81-2.81c.8-.78.8-2.07 0-2.86zM5.41 20L4 18.59l7.72-7.72 1.47 1.35L5.41 20z\"/>\n",
              "  </svg>\n",
              "      </button>\n",
              "      \n",
              "  <style>\n",
              "    .colab-df-container {\n",
              "      display:flex;\n",
              "      flex-wrap:wrap;\n",
              "      gap: 12px;\n",
              "    }\n",
              "\n",
              "    .colab-df-convert {\n",
              "      background-color: #E8F0FE;\n",
              "      border: none;\n",
              "      border-radius: 50%;\n",
              "      cursor: pointer;\n",
              "      display: none;\n",
              "      fill: #1967D2;\n",
              "      height: 32px;\n",
              "      padding: 0 0 0 0;\n",
              "      width: 32px;\n",
              "    }\n",
              "\n",
              "    .colab-df-convert:hover {\n",
              "      background-color: #E2EBFA;\n",
              "      box-shadow: 0px 1px 2px rgba(60, 64, 67, 0.3), 0px 1px 3px 1px rgba(60, 64, 67, 0.15);\n",
              "      fill: #174EA6;\n",
              "    }\n",
              "\n",
              "    [theme=dark] .colab-df-convert {\n",
              "      background-color: #3B4455;\n",
              "      fill: #D2E3FC;\n",
              "    }\n",
              "\n",
              "    [theme=dark] .colab-df-convert:hover {\n",
              "      background-color: #434B5C;\n",
              "      box-shadow: 0px 1px 3px 1px rgba(0, 0, 0, 0.15);\n",
              "      filter: drop-shadow(0px 1px 2px rgba(0, 0, 0, 0.3));\n",
              "      fill: #FFFFFF;\n",
              "    }\n",
              "  </style>\n",
              "\n",
              "      <script>\n",
              "        const buttonEl =\n",
              "          document.querySelector('#df-8185f8dd-303e-4b3d-a632-2130a9544e3f button.colab-df-convert');\n",
              "        buttonEl.style.display =\n",
              "          google.colab.kernel.accessAllowed ? 'block' : 'none';\n",
              "\n",
              "        async function convertToInteractive(key) {\n",
              "          const element = document.querySelector('#df-8185f8dd-303e-4b3d-a632-2130a9544e3f');\n",
              "          const dataTable =\n",
              "            await google.colab.kernel.invokeFunction('convertToInteractive',\n",
              "                                                     [key], {});\n",
              "          if (!dataTable) return;\n",
              "\n",
              "          const docLinkHtml = 'Like what you see? Visit the ' +\n",
              "            '<a target=\"_blank\" href=https://colab.research.google.com/notebooks/data_table.ipynb>data table notebook</a>'\n",
              "            + ' to learn more about interactive tables.';\n",
              "          element.innerHTML = '';\n",
              "          dataTable['output_type'] = 'display_data';\n",
              "          await google.colab.output.renderOutput(dataTable, element);\n",
              "          const docLink = document.createElement('div');\n",
              "          docLink.innerHTML = docLinkHtml;\n",
              "          element.appendChild(docLink);\n",
              "        }\n",
              "      </script>\n",
              "    </div>\n",
              "  </div>\n",
              "  "
            ]
          },
          "metadata": {},
          "execution_count": 20
        }
      ]
    }
  ]
}